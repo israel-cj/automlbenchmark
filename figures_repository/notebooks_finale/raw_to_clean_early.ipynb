{
 "cells": [
  {
   "cell_type": "markdown",
   "id": "12e0e39b-d75b-4abb-90e5-00c6a0d9d1e8",
   "metadata": {},
   "source": [
    "# Data Cleaning Notebook"
   ]
  },
  {
   "cell_type": "code",
   "execution_count": 1,
   "id": "d791fd60-4970-4244-bf96-384beba02148",
   "metadata": {},
   "outputs": [],
   "source": [
    "import itertools\n",
    "from pathlib import Path\n",
    "import pandas as pd\n",
    "\n",
    "PROJECT_ROOT = Path(\".\").absolute().parent\n",
    "DATA_DIRECTORY = PROJECT_ROOT / \"data\""
   ]
  },
  {
   "cell_type": "code",
   "execution_count": 2,
   "id": "77f58cfa-8d6a-4018-a636-099df3372d07",
   "metadata": {},
   "outputs": [
    {
     "name": "stderr",
     "output_type": "stream",
     "text": [
      "C:\\Users\\20210595\\.conda\\envs\\visualize_5\\lib\\site-packages\\IPython\\core\\interactiveshell.py:3550: DtypeWarning: Columns (18,33) have mixed types.Specify dtype option on import or set low_memory=False.\n",
      "  exec(code_obj, self.user_global_ns, self.user_ns)\n"
     ]
    }
   ],
   "source": [
    "amlb_df = pd.read_csv(DATA_DIRECTORY / \"results_shorter_amlb_early.csv\")"
   ]
  },
  {
   "cell_type": "markdown",
   "id": "db228226-1d04-4bcd-9340-98635f4729bb",
   "metadata": {},
   "source": [
    "## Cleaning Duplicates"
   ]
  },
  {
   "cell_type": "code",
   "execution_count": 3,
   "id": "fc7881ca-1ce9-4e6d-bc09-a6bf2b1fec13",
   "metadata": {},
   "outputs": [],
   "source": [
    "amlb_df = amlb_df.sort_values(by=\"result\", na_position=\"first\")\n",
    "\n",
    "def custom_dedup(group):\n",
    "    if group['result'].isna().all():\n",
    "        return group.iloc[0:1]\n",
    "    else:\n",
    "        return group.dropna(subset=['result']).iloc[-1:]\n",
    "\n",
    "amlb_df = amlb_df.groupby([\"task\", \"framework\", \"fold\", \"constraint\"]).apply(custom_dedup).reset_index(drop=True)\n"
   ]
  },
  {
   "cell_type": "code",
   "execution_count": 4,
   "id": "99300581-3855-4de4-bc1c-7cdda0a05815",
   "metadata": {},
   "outputs": [],
   "source": [
    "assert amlb_df[amlb_df.duplicated([\"framework\", \"task\", \"fold\", \"constraint\"])].empty"
   ]
  },
  {
   "cell_type": "markdown",
   "id": "4e974221-3656-4b18-b718-432f91a548dd",
   "metadata": {},
   "source": [
    "# Show Missing Results"
   ]
  },
  {
   "cell_type": "markdown",
   "id": "cfc81e4f-5c7d-44eb-9e8d-15b9835602db",
   "metadata": {},
   "source": [
    "There are some (framework, fold, task, constraint)-combinations which do not have any entries:"
   ]
  },
  {
   "cell_type": "code",
   "execution_count": 5,
   "id": "57c7d904-bbe8-4836-ad97-a3c20ffb7d72",
   "metadata": {},
   "outputs": [
    {
     "data": {
      "text/plain": [
       "type        constraint              framework                      \n",
       "binary      Mixed Time Constraints  AutoGluon_FI_FT_IL_early_10min     410\n",
       "                                    AutoGluon_FI_FT_IL_early_30min     410\n",
       "                                    AutoGluon_FI_FT_IL_early_5min      410\n",
       "                                    AutoGluon_FI_FT_IL_early_60min     410\n",
       "                                    AutoGluon_HQIL_early_10min         410\n",
       "                                    AutoGluon_HQIL_early_30min         410\n",
       "                                    AutoGluon_HQIL_early_5min          410\n",
       "                                    AutoGluon_HQIL_early_60min         410\n",
       "                                    AutoGluon_HQ_early_10min           410\n",
       "                                    AutoGluon_HQ_early_30min           410\n",
       "                                    AutoGluon_HQ_early_5min            410\n",
       "                                    AutoGluon_HQ_early_60min           410\n",
       "                                    AutoGluon_benchmark_early_10min    410\n",
       "                                    AutoGluon_benchmark_early_30min    410\n",
       "                                    AutoGluon_benchmark_early_5min     410\n",
       "                                    AutoGluon_benchmark_early_60min    410\n",
       "                                    FEDOT_early_10min                  410\n",
       "                                    FEDOT_early_30min                  410\n",
       "                                    FEDOT_early_5min                   410\n",
       "                                    FEDOT_early_60min                  410\n",
       "                                    H2OAutoML_early_10min              410\n",
       "                                    H2OAutoML_early_30min              410\n",
       "                                    H2OAutoML_early_5min               410\n",
       "                                    H2OAutoML_early_60min              410\n",
       "                                    TPOT_early_10min                   410\n",
       "                                    TPOT_early_30min                   410\n",
       "                                    TPOT_early_5min                    410\n",
       "                                    TPOT_early_60min                   410\n",
       "                                    flaml_early_10min                  410\n",
       "                                    flaml_early_30min                  410\n",
       "                                    flaml_early_5min                   410\n",
       "                                    flaml_early_60min                  410\n",
       "multiclass  Mixed Time Constraints  AutoGluon_FI_FT_IL_early_10min     300\n",
       "                                    AutoGluon_FI_FT_IL_early_30min     300\n",
       "                                    AutoGluon_FI_FT_IL_early_5min      300\n",
       "                                    AutoGluon_FI_FT_IL_early_60min     300\n",
       "                                    AutoGluon_HQIL_early_10min         300\n",
       "                                    AutoGluon_HQIL_early_30min         300\n",
       "                                    AutoGluon_HQIL_early_5min          300\n",
       "                                    AutoGluon_HQIL_early_60min         300\n",
       "                                    AutoGluon_HQ_early_10min           300\n",
       "                                    AutoGluon_HQ_early_30min           300\n",
       "                                    AutoGluon_HQ_early_5min            300\n",
       "                                    AutoGluon_HQ_early_60min           300\n",
       "                                    AutoGluon_benchmark_early_10min    300\n",
       "                                    AutoGluon_benchmark_early_30min    300\n",
       "                                    AutoGluon_benchmark_early_5min     300\n",
       "                                    AutoGluon_benchmark_early_60min    300\n",
       "                                    FEDOT_early_10min                  300\n",
       "                                    FEDOT_early_30min                  300\n",
       "                                    FEDOT_early_5min                   300\n",
       "                                    FEDOT_early_60min                  300\n",
       "                                    H2OAutoML_early_10min              300\n",
       "                                    H2OAutoML_early_30min              300\n",
       "                                    H2OAutoML_early_5min               300\n",
       "                                    H2OAutoML_early_60min              300\n",
       "                                    TPOT_early_10min                   300\n",
       "                                    TPOT_early_30min                   300\n",
       "                                    TPOT_early_5min                    300\n",
       "                                    TPOT_early_60min                   300\n",
       "                                    flaml_early_10min                  300\n",
       "                                    flaml_early_30min                  300\n",
       "                                    flaml_early_5min                   300\n",
       "                                    flaml_early_60min                  300\n",
       "regression  Mixed Time Constraints  AutoGluon_FI_FT_IL_early_10min     330\n",
       "                                    AutoGluon_FI_FT_IL_early_30min     330\n",
       "                                    AutoGluon_FI_FT_IL_early_5min      330\n",
       "                                    AutoGluon_FI_FT_IL_early_60min     330\n",
       "                                    AutoGluon_HQIL_early_10min         330\n",
       "                                    AutoGluon_HQIL_early_30min         330\n",
       "                                    AutoGluon_HQIL_early_5min          330\n",
       "                                    AutoGluon_HQIL_early_60min         330\n",
       "                                    AutoGluon_HQ_early_10min           330\n",
       "                                    AutoGluon_HQ_early_30min           330\n",
       "                                    AutoGluon_HQ_early_5min            330\n",
       "                                    AutoGluon_HQ_early_60min           330\n",
       "                                    AutoGluon_benchmark_early_10min    330\n",
       "                                    AutoGluon_benchmark_early_30min    330\n",
       "                                    AutoGluon_benchmark_early_5min     330\n",
       "                                    AutoGluon_benchmark_early_60min    330\n",
       "                                    FEDOT_early_10min                  330\n",
       "                                    FEDOT_early_30min                  330\n",
       "                                    FEDOT_early_5min                   330\n",
       "                                    FEDOT_early_60min                  330\n",
       "                                    H2OAutoML_early_10min              330\n",
       "                                    H2OAutoML_early_30min              330\n",
       "                                    H2OAutoML_early_5min               330\n",
       "                                    H2OAutoML_early_60min              330\n",
       "                                    TPOT_early_10min                   330\n",
       "                                    TPOT_early_30min                   330\n",
       "                                    TPOT_early_5min                    330\n",
       "                                    TPOT_early_60min                   330\n",
       "                                    flaml_early_10min                  330\n",
       "                                    flaml_early_30min                  330\n",
       "                                    flaml_early_5min                   330\n",
       "                                    flaml_early_60min                  330\n",
       "dtype: int64"
      ]
     },
     "metadata": {},
     "output_type": "display_data"
    }
   ],
   "source": [
    "from IPython.display import display\n",
    "\n",
    "with pd.option_context(\"display.max_rows\", None):\n",
    "    display(amlb_df.groupby(by=[\"type\", \"constraint\", \"framework\"]).size())"
   ]
  },
  {
   "cell_type": "code",
   "execution_count": 6,
   "id": "17b701b9-4f56-48e6-a567-fd255cc884da",
   "metadata": {},
   "outputs": [
    {
     "name": "stdout",
     "output_type": "stream",
     "text": [
      "framework\n",
      "AutoGluon_FI_FT_IL_early_10min       0\n",
      "AutoGluon_FI_FT_IL_early_30min       0\n",
      "AutoGluon_FI_FT_IL_early_5min        0\n",
      "AutoGluon_FI_FT_IL_early_60min       0\n",
      "AutoGluon_HQIL_early_10min          19\n",
      "AutoGluon_HQIL_early_30min          10\n",
      "AutoGluon_HQIL_early_5min           41\n",
      "AutoGluon_HQIL_early_60min           0\n",
      "AutoGluon_HQ_early_10min             0\n",
      "AutoGluon_HQ_early_30min             0\n",
      "AutoGluon_HQ_early_5min             10\n",
      "AutoGluon_HQ_early_60min             1\n",
      "AutoGluon_benchmark_early_10min      0\n",
      "AutoGluon_benchmark_early_30min      0\n",
      "AutoGluon_benchmark_early_5min       9\n",
      "AutoGluon_benchmark_early_60min      0\n",
      "FEDOT_early_10min                  313\n",
      "FEDOT_early_30min                  335\n",
      "FEDOT_early_5min                   300\n",
      "FEDOT_early_60min                  377\n",
      "H2OAutoML_early_10min                0\n",
      "H2OAutoML_early_30min                0\n",
      "H2OAutoML_early_5min                 1\n",
      "H2OAutoML_early_60min                5\n",
      "TPOT_early_10min                   181\n",
      "TPOT_early_30min                   197\n",
      "TPOT_early_5min                    225\n",
      "TPOT_early_60min                   185\n",
      "flaml_early_10min                   26\n",
      "flaml_early_30min                   32\n",
      "flaml_early_5min                    25\n",
      "flaml_early_60min                   30\n",
      "Name: result, dtype: int64\n"
     ]
    }
   ],
   "source": [
    "# Assuming amlb_df is already defined\n",
    "nan_counts = amlb_df.groupby('framework')['result'].apply(lambda x: x.isna().sum())\n",
    "\n",
    "print(nan_counts)"
   ]
  },
  {
   "cell_type": "code",
   "execution_count": 7,
   "id": "b8827639-230f-4602-aafd-7e82b1670871",
   "metadata": {},
   "outputs": [],
   "source": [
    "amlb_df.to_csv(DATA_DIRECTORY / \"amlb_all_early.csv\", index=False)"
   ]
  }
 ],
 "metadata": {
  "kernelspec": {
   "display_name": "Python 3 (ipykernel)",
   "language": "python",
   "name": "python3"
  },
  "language_info": {
   "codemirror_mode": {
    "name": "ipython",
    "version": 3
   },
   "file_extension": ".py",
   "mimetype": "text/x-python",
   "name": "python",
   "nbconvert_exporter": "python",
   "pygments_lexer": "ipython3",
   "version": "3.9.18"
  }
 },
 "nbformat": 4,
 "nbformat_minor": 5
}
