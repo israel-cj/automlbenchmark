{
 "cells": [
  {
   "cell_type": "markdown",
   "id": "12e0e39b-d75b-4abb-90e5-00c6a0d9d1e8",
   "metadata": {},
   "source": [
    "# Data Cleaning Notebook"
   ]
  },
  {
   "cell_type": "code",
   "execution_count": 1,
   "id": "d791fd60-4970-4244-bf96-384beba02148",
   "metadata": {},
   "outputs": [],
   "source": [
    "import itertools\n",
    "from pathlib import Path\n",
    "import pandas as pd\n",
    "\n",
    "PROJECT_ROOT = Path(\".\").absolute().parent\n",
    "DATA_DIRECTORY = PROJECT_ROOT / \"data\""
   ]
  },
  {
   "cell_type": "code",
   "execution_count": 2,
   "id": "77f58cfa-8d6a-4018-a636-099df3372d07",
   "metadata": {},
   "outputs": [
    {
     "name": "stderr",
     "output_type": "stream",
     "text": [
      "C:\\Users\\20210595\\.conda\\envs\\visualize_5\\lib\\site-packages\\IPython\\core\\interactiveshell.py:3550: DtypeWarning: Columns (18,27) have mixed types.Specify dtype option on import or set low_memory=False.\n",
      "  exec(code_obj, self.user_global_ns, self.user_ns)\n"
     ]
    }
   ],
   "source": [
    "amlb_df = pd.read_csv(DATA_DIRECTORY / \"results_shorter_amlb.csv\")"
   ]
  },
  {
   "cell_type": "markdown",
   "id": "db228226-1d04-4bcd-9340-98635f4729bb",
   "metadata": {},
   "source": [
    "## Cleaning Duplicates"
   ]
  },
  {
   "cell_type": "code",
   "execution_count": 3,
   "id": "57001a99-96b6-4e4e-96df-86769e247180",
   "metadata": {},
   "outputs": [],
   "source": [
    "amlb_df = amlb_df.sort_values(by=\"result\", na_position=\"first\")\n",
    "\n",
    "def custom_dedup(group):\n",
    "    if group['result'].isna().all():\n",
    "        return group.iloc[0:1]\n",
    "    else:\n",
    "        return group.dropna(subset=['result']).iloc[-1:]\n",
    "\n",
    "amlb_df = amlb_df.groupby([\"task\", \"framework\", \"fold\", \"constraint\"]).apply(custom_dedup).reset_index(drop=True)\n"
   ]
  },
  {
   "cell_type": "code",
   "execution_count": 4,
   "id": "99300581-3855-4de4-bc1c-7cdda0a05815",
   "metadata": {},
   "outputs": [],
   "source": [
    "assert amlb_df[amlb_df.duplicated([\"framework\", \"task\", \"fold\", \"constraint\"])].empty"
   ]
  },
  {
   "cell_type": "markdown",
   "id": "4e974221-3656-4b18-b718-432f91a548dd",
   "metadata": {},
   "source": [
    "# Show Missing Results"
   ]
  },
  {
   "cell_type": "code",
   "execution_count": 5,
   "id": "57c7d904-bbe8-4836-ad97-a3c20ffb7d72",
   "metadata": {},
   "outputs": [
    {
     "data": {
      "text/plain": [
       "constraint              framework                      \n",
       "Mixed Time Constraints  AutoGluon_HQIL_10min               1040\n",
       "                        AutoGluon_HQIL_30min               1040\n",
       "                        AutoGluon_HQIL_5min                1040\n",
       "                        AutoGluon_HQIL_60min               1040\n",
       "                        AutoGluon_HQ_10min                 1040\n",
       "                        AutoGluon_HQ_30min                 1040\n",
       "                        AutoGluon_HQ_5min                  1040\n",
       "                        AutoGluon_HQ_60min                 1040\n",
       "                        AutoGluon_benchmark_10min          1040\n",
       "                        AutoGluon_benchmark_30min          1040\n",
       "                        AutoGluon_benchmark_5min           1040\n",
       "                        AutoGluon_benchmark_60min          1040\n",
       "                        FEDOT_10min                        1040\n",
       "                        FEDOT_30min                        1040\n",
       "                        FEDOT_5min                         1040\n",
       "                        FEDOT_60min                        1040\n",
       "                        GAMA_10min                         1040\n",
       "                        GAMA_30min                         1040\n",
       "                        GAMA_5min                          1040\n",
       "                        GAMA_60min                         1040\n",
       "                        H2OAutoML_10min                    1040\n",
       "                        H2OAutoML_30min                    1040\n",
       "                        H2OAutoML_5min                     1040\n",
       "                        H2OAutoML_60min                    1040\n",
       "                        NaiveAutoML_10min                  1040\n",
       "                        NaiveAutoML_30min                  1040\n",
       "                        NaiveAutoML_5min                   1040\n",
       "                        NaiveAutoML_60min                  1040\n",
       "                        RandomForest_60min                 1040\n",
       "                        TPOT_10min                         1040\n",
       "                        TPOT_30min                         1040\n",
       "                        TPOT_5min                          1040\n",
       "                        TPOT_60min                         1040\n",
       "                        TunedRandomForest_60min            1040\n",
       "                        autosklearn2_10min                 1030\n",
       "                        autosklearn2_30min                 1030\n",
       "                        autosklearn2_5min                  1031\n",
       "                        autosklearn2_60min                  710\n",
       "                        autosklearn_10min                  1030\n",
       "                        autosklearn_30min                  1030\n",
       "                        autosklearn_5min                   1030\n",
       "                        autosklearn_60min                  1040\n",
       "                        constantpredictor_60min            1040\n",
       "                        flaml_10min                        1040\n",
       "                        flaml_30min                        1040\n",
       "                        flaml_5min                         1040\n",
       "                        flaml_60min                        1040\n",
       "                        lightautoml_10min                  1040\n",
       "                        lightautoml_30min                  1040\n",
       "                        lightautoml_5min                   1040\n",
       "                        lightautoml_60min                  1040\n",
       "                        mljarsupervised_benchmark_10min    1040\n",
       "                        mljarsupervised_benchmark_30min    1040\n",
       "                        mljarsupervised_benchmark_5min     1040\n",
       "                        mljarsupervised_benchmark_60min    1040\n",
       "dtype: int64"
      ]
     },
     "metadata": {},
     "output_type": "display_data"
    }
   ],
   "source": [
    "from IPython.display import display\n",
    "\n",
    "with pd.option_context(\"display.max_rows\", None):\n",
    "    display(amlb_df.groupby(by=[\"constraint\", \"framework\"]).size())"
   ]
  },
  {
   "cell_type": "code",
   "execution_count": 6,
   "id": "70b2d3b2-23a0-43ed-8802-2729995d3721",
   "metadata": {},
   "outputs": [
    {
     "name": "stdout",
     "output_type": "stream",
     "text": [
      "framework\n",
      "AutoGluon_HQIL_10min                20\n",
      "AutoGluon_HQIL_30min                10\n",
      "AutoGluon_HQIL_5min                 44\n",
      "AutoGluon_HQIL_60min                 4\n",
      "AutoGluon_HQ_10min                   0\n",
      "AutoGluon_HQ_30min                   0\n",
      "AutoGluon_HQ_5min                   10\n",
      "AutoGluon_HQ_60min                   0\n",
      "AutoGluon_benchmark_10min            0\n",
      "AutoGluon_benchmark_30min            0\n",
      "AutoGluon_benchmark_5min            10\n",
      "AutoGluon_benchmark_60min            0\n",
      "FEDOT_10min                        178\n",
      "FEDOT_30min                        192\n",
      "FEDOT_5min                         188\n",
      "FEDOT_60min                        389\n",
      "GAMA_10min                          33\n",
      "GAMA_30min                          21\n",
      "GAMA_5min                           85\n",
      "GAMA_60min                          42\n",
      "H2OAutoML_10min                     10\n",
      "H2OAutoML_30min                      8\n",
      "H2OAutoML_5min                      20\n",
      "H2OAutoML_60min                     22\n",
      "NaiveAutoML_10min                  304\n",
      "NaiveAutoML_30min                  327\n",
      "NaiveAutoML_5min                   247\n",
      "NaiveAutoML_60min                   67\n",
      "RandomForest_60min                   0\n",
      "TPOT_10min                          64\n",
      "TPOT_30min                          80\n",
      "TPOT_5min                           73\n",
      "TPOT_60min                          95\n",
      "TunedRandomForest_60min              0\n",
      "autosklearn2_10min                  20\n",
      "autosklearn2_30min                  20\n",
      "autosklearn2_5min                   21\n",
      "autosklearn2_60min                  20\n",
      "autosklearn_10min                   20\n",
      "autosklearn_30min                   24\n",
      "autosklearn_5min                    20\n",
      "autosklearn_60min                   21\n",
      "constantpredictor_60min              0\n",
      "flaml_10min                         15\n",
      "flaml_30min                         17\n",
      "flaml_5min                          14\n",
      "flaml_60min                         22\n",
      "lightautoml_10min                   32\n",
      "lightautoml_30min                   32\n",
      "lightautoml_5min                    36\n",
      "lightautoml_60min                   30\n",
      "mljarsupervised_benchmark_10min     19\n",
      "mljarsupervised_benchmark_30min     82\n",
      "mljarsupervised_benchmark_5min       1\n",
      "mljarsupervised_benchmark_60min    159\n",
      "Name: result, dtype: int64\n"
     ]
    }
   ],
   "source": [
    "# Assuming amlb_df is already defined\n",
    "nan_counts = amlb_df.groupby('framework')['result'].apply(lambda x: x.isna().sum())\n",
    "print(nan_counts)"
   ]
  },
  {
   "cell_type": "code",
   "execution_count": 8,
   "id": "b8827639-230f-4602-aafd-7e82b1670871",
   "metadata": {},
   "outputs": [],
   "source": [
    "amlb_df.to_csv(DATA_DIRECTORY / \"amlb_all.csv\", index=False)"
   ]
  }
 ],
 "metadata": {
  "kernelspec": {
   "display_name": "Python 3 (ipykernel)",
   "language": "python",
   "name": "python3"
  },
  "language_info": {
   "codemirror_mode": {
    "name": "ipython",
    "version": 3
   },
   "file_extension": ".py",
   "mimetype": "text/x-python",
   "name": "python",
   "nbconvert_exporter": "python",
   "pygments_lexer": "ipython3",
   "version": "3.9.18"
  }
 },
 "nbformat": 4,
 "nbformat_minor": 5
}
